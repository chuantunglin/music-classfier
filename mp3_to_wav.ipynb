{
 "cells": [
  {
   "cell_type": "code",
   "execution_count": 1,
   "metadata": {},
   "outputs": [],
   "source": [
    "import matplotlib.pyplot as plt\n",
    "from scipy.fftpack import fft,ifft\n",
    "from scipy.io import wavfile # get the api\n",
    "#import math\n",
    "import cmath\n",
    "import numpy as np\n",
    "import pydub\n",
    "from pydub import AudioSegment\n",
    "from os import path\n",
    "import wave\n",
    "import io,os\n",
    "import sys"
   ]
  },
  {
   "cell_type": "code",
   "execution_count": 2,
   "metadata": {},
   "outputs": [],
   "source": [
    "def mp3_to_wav(file, path):\n",
    "    path=path+'/'\n",
    "    sound = AudioSegment.from_mp3(path+file)\n",
    "    sound.export(path+file[:-4]+'.wav', format=\"wav\")"
   ]
  },
  {
   "cell_type": "code",
   "execution_count": 10,
   "metadata": {},
   "outputs": [],
   "source": [
    "def convert_all():\n",
    "    path = \"/home/learning/Final Project/Data\"\n",
    "    dirs = os.listdir( path )\n",
    "\n",
    "    # 输出所有文件和文件夹\n",
    "\n",
    "    for dirc in dirs:\n",
    "        if(os.path.isdir(path+'/'+dirc)):\n",
    "            sub_folder=os.listdir(path+'/'+dirc)\n",
    "            print('move to '+path+'/'+dirc)\n",
    "            for file in sub_folder:\n",
    "                if(file[-4:]=='.mp3'):#found mp3 file\n",
    "                    if((file[:-4]+'.wav') not in sub_folder):#if no corresponing wav file found\n",
    "                        print(file+'...convert...')\n",
    "                        mp3_to_wav(file,path+'/'+dirc)#convert to wav\n",
    "                    #os.remove(path+'/'+dirc+'/'+file)"
   ]
  },
  {
   "cell_type": "code",
   "execution_count": 11,
   "metadata": {},
   "outputs": [
    {
     "name": "stdout",
     "output_type": "stream",
     "text": [
      "move to /home/learning/Final Project/Data/Turkey\n",
      "move to /home/learning/Final Project/Data/Russia\n",
      "move to /home/learning/Final Project/Data/United Kingdom\n",
      "move to /home/learning/Final Project/Data/Indonesia\n",
      "move to /home/learning/Final Project/Data/Thailand\n",
      "move to /home/learning/Final Project/Data/Mexico\n",
      "move to /home/learning/Final Project/Data/Germany\n",
      "move to /home/learning/Final Project/Data/.ipynb_checkpoints\n",
      "move to /home/learning/Final Project/Data/Philippines\n",
      "move to /home/learning/Final Project/Data/South Korea\n",
      "move to /home/learning/Final Project/Data/India\n",
      "move to /home/learning/Final Project/Data/France\n",
      "move to /home/learning/Final Project/Data/Taiwan\n",
      "move to /home/learning/Final Project/Data/Japan\n",
      "move to /home/learning/Final Project/Data/Brazil\n"
     ]
    }
   ],
   "source": [
    "convert_all()"
   ]
  },
  {
   "cell_type": "code",
   "execution_count": null,
   "metadata": {},
   "outputs": [],
   "source": []
  }
 ],
 "metadata": {
  "kernelspec": {
   "display_name": "Python 3",
   "language": "python",
   "name": "python3"
  },
  "language_info": {
   "codemirror_mode": {
    "name": "ipython",
    "version": 3
   },
   "file_extension": ".py",
   "mimetype": "text/x-python",
   "name": "python",
   "nbconvert_exporter": "python",
   "pygments_lexer": "ipython3",
   "version": "3.5.2"
  }
 },
 "nbformat": 4,
 "nbformat_minor": 2
}
